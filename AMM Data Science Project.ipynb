{
 "cells": [
  {
   "cell_type": "markdown",
   "id": "1607fea9",
   "metadata": {},
   "source": [
    "# Data Science for Economics Final Assignment\n",
    "|Name|SNR|ANR|\n",
    "|---|---|----|\n",
    "|Alexandros Marios Mistillioglou|2062448|u360743|"
   ]
  },
  {
   "cell_type": "markdown",
   "id": "2554d5f4",
   "metadata": {},
   "source": [
    "# Table of Contents:\n",
    "   1. Research Question\n",
    "   2. Motivation\n",
    "   3. Method and Data\n",
    "   4. Preview of the Answers\n",
    "   5. Main Assumptions\n",
    "   6. Python Code \n",
    "   7. Robustness Analysis\n",
    "   8. Discussion and Conclussion"
   ]
  },
  {
   "cell_type": "markdown",
   "id": "a9f8d6d4",
   "metadata": {},
   "source": [
    "# 1. Research Question"
   ]
  },
  {
   "cell_type": "markdown",
   "id": "9ab75461",
   "metadata": {},
   "source": [
    "   The research question that we have picked for this project is: <b>Is it possible to use machine learning to predict the tourist arrivals of each country on a monthly basis?<b>\n",
    "    \n",
    "   With this assignment we will assess whether it is feasible to predict the future tourist arrivals in each country with machine learning techniques. "
   ]
  },
  {
   "cell_type": "markdown",
   "id": "8ebf42e0",
   "metadata": {},
   "source": [
    "# 2. Motivation"
   ]
  },
  {
   "cell_type": "markdown",
   "id": "b38ae900",
   "metadata": {},
   "source": [
    "   As the impact of the Covid-19 pandemic is receding, life returns to normality. Along with that, leisure travelling is showing a strong rebound, and already problems of over-tourism are starting to reappear. A prime example of this occasion is Venice, with some 20 million visitors flooding each year. On its busiest days, around 120,000 people visit this city which is home to just 55,000 permanent residents. This creates enormous issues, from increased rents for the locals to the overstrain of the infrastructures and the damage to historic buildings. This led Venice to adopt a rather extreme measure, as it is the first city in the world that, from January of 2023, will charge visitors 10 euros as an entrance fee. \n",
    "   The results of this policy remain to be seen however, another useful tool for the policymakers would be the ability to accurately predict the number of tourists that are expected to visit each month in order to attempt to implement policies that would alleviate this issue by spreading the amount of tourists throughout the year. For this purpose, we will use the datasets of Eurostat in order to train the neural networks to predict future tourist arrivals.  "
   ]
  },
  {
   "cell_type": "code",
   "execution_count": 1,
   "id": "185cd36d",
   "metadata": {},
   "outputs": [],
   "source": [
    "#Libraries Importing\n",
    "\n",
    "import matplotlib as plt\n",
    "import tensorflow as tf\n",
    "from tensorflow import keras\n",
    "from tensorflow.keras import layers\n",
    "import pandas as pd\n",
    "import numpy as np\n",
    "import matplotlib.pyplot as plt\n",
    "from sklearn.model_selection import train_test_split\n",
    "import statsmodels.api as sm\n",
    "from sklearn.preprocessing import MinMaxScaler\n",
    "from tensorflow.keras.models import Sequential\n",
    "from tensorflow.keras.callbacks import EarlyStopping\n",
    "from sklearn.metrics import r2_score\n",
    "from sklearn.linear_model import Ridge\n",
    "from sklearn.linear_model import Lasso\n"
   ]
  },
  {
   "cell_type": "markdown",
   "id": "47b2e55b",
   "metadata": {},
   "source": [
    "# 3. Method and Data"
   ]
  },
  {
   "cell_type": "markdown",
   "id": "1f77a6dc",
   "metadata": {},
   "source": [
    "   The datasets we use came from Eurostat and include data on the tourist arrivals in each EU country over the last two decades. (2002-2020) https://ec.europa.eu/eurostat/databrowser/bookmark/5c30d775-885d-48ec-81fe-efaf3c0f09ce?lang=en The reason that we used data up to 2020 is that as the Covid-19 pandemic had a massive impact to the tourism industry, including more recent datasets would inevitably lead to misleading results. \n",
    "   Prior to using the data for the regression and the attempt to use the different machine learning techniques, we need to do the appropriate data cleaning. As the first step, it is essential to mention that from the datasets, we kept only the countries whose 75% of the observations were non-missing values. For the data we kept, we substituted the missing values with the averages of the countries. Moreover, in an attempt to make the code as clear and easy to read as possible, we put comments throughout the paper.\n",
    "    "
   ]
  },
  {
   "cell_type": "code",
   "execution_count": 2,
   "id": "95e248a1",
   "metadata": {},
   "outputs": [],
   "source": [
    "#Reading the data into pandas dataframes\n",
    "\n",
    "df = pd.read_excel(r\"C:\\Users\\Alex\\Desktop\\Second Sem Tilb\\Data science\\Tourism stuff\\Datasets\\tour_occ_arm__custom_3198776_page_spreadsheet.xlsx\")\n",
    "\n",
    "df.drop(list(df.filter(regex = 'Unnamed')), axis = 1, inplace = True)\n",
    "\n",
    "df.replace(':', np.nan,inplace=True)\n",
    "\n",
    "df = df.transpose()\n",
    "\n",
    "df.dropna(axis=1, thresh=len(df)*0.75,  inplace=True)\n",
    "\n",
    "new_header = df.iloc[0] #grab the first row for the header\n",
    "df = df[1:] #take the data less the header row\n",
    "df.columns = new_header #set the header row as the df header\n",
    "\n",
    "# Used to find percentage of missing values per column\n",
    "# amount_missing = df.isnull().sum() / df.shape[0] * 100.00\n",
    "\n",
    "df.fillna(df.mean(), inplace=True)\n",
    "\n",
    "# df.dtypes all are float"
   ]
  },
  {
   "cell_type": "markdown",
   "id": "a77e85f7",
   "metadata": {},
   "source": [
    "# 4. Preview of the Answers"
   ]
  },
  {
   "cell_type": "markdown",
   "id": "af080bf6",
   "metadata": {},
   "source": [
    "Based on our results, it is reasonable to claim that machine learning techniques, such as simple Feed-Forward Neural networks, OLS, ridge and lasso regressions allow us to predict the future tourist arrivals in each EU country for each month. Generally, all the models give robust resutls with at least 0.94 R-squared. "
   ]
  },
  {
   "cell_type": "markdown",
   "id": "f64f9c0b",
   "metadata": {},
   "source": [
    "# 5. Main Assumptions"
   ]
  },
  {
   "cell_type": "markdown",
   "id": "3ca6b5d7",
   "metadata": {},
   "source": [
    "   Regarding the assumptions that we have to make, the most vital one would be that it is assumed that our datasets are representative samples and would allow us to predict the future with a degree of certainty. Having excluded the time since the start of the pandemic, it is reasonable to assume that there was no significant disruption in the tourist arrivals in the countries of our datasets, with the exception to some terrorist attacks, that had only a rather small and short-term effect on the arrivals. Additionally, a rather safer assumption that we have to make is about the reliability of our data source, but as the data source is from the Eurostat, it is assumed that it is as reliable as it can be. Finally, we assume that as all the countries are performing in a similar way, if a method works for one country, it would also work for all the others in our datasets."
   ]
  },
  {
   "cell_type": "code",
   "execution_count": 3,
   "id": "add148d1",
   "metadata": {},
   "outputs": [],
   "source": [
    "def OLS_data_prep_results(data,country_to_predict,index_of_country_to_predict,lag_of_country_to_predict):\n",
    "    \n",
    "    \"\"\"\n",
    "    Prepares the data from a dataframe to apply the OLS and then returns the results of the OLS\n",
    "\n",
    "    Args:\n",
    "        data: The dataframe for which we want to apply OLS\n",
    "        country_to_predict: The country we want to to do a linear regression\n",
    "        index_of_country_to_predict: The index of the country in the dataframe\n",
    "        lag_of_country_to_predict:The lag we want to implement, meaning which values we want to use for the linear regression\n",
    "\n",
    "    Returns:\n",
    "        The results of the OLS \n",
    "    \n",
    "    \"\"\"\n",
    "    \n",
    "    #Lagging the attribute we want to predict and dropping last row\n",
    "\n",
    "    data[country_to_predict] = data[country_to_predict].shift(lag_of_country_to_predict)\n",
    "\n",
    "    data.dropna(inplace = True)\n",
    "\n",
    "    #Scaling Data\n",
    "\n",
    "    data_to_be_scaled = data.to_numpy()\n",
    "\n",
    "    scaler = MinMaxScaler(feature_range= (0,1)) #Initiating the scaler\n",
    "    data_scaled = scaler.fit_transform(data_to_be_scaled)\n",
    "\n",
    "    # Splitting the data to x and y\n",
    "\n",
    "    y = data_scaled[:,index_of_country_to_predict]\n",
    "    X = np.delete(data_scaled, index_of_country_to_predict, axis=1)\n",
    "\n",
    "    X2 = sm.add_constant(X) # adding a constant\n",
    "\n",
    "    est = sm.OLS(y, X2)\n",
    "    est2 = est.fit()\n",
    "    print(est2.summary()) # This allows us to actually see the model\n"
   ]
  },
  {
   "cell_type": "code",
   "execution_count": 13,
   "id": "c7dc5e7a",
   "metadata": {},
   "outputs": [],
   "source": [
    "def Neural_Network_Structure(shape_for_first_layer):\n",
    "    \n",
    "    \"\"\"\n",
    "    Createsand compiles a Feed-Forward Neural Network\n",
    "    \n",
    "    Args:\n",
    "        shape_for_first_layer: The input shape for the neural network\n",
    "\n",
    "    Returns:\n",
    "        model: The neural network as specified withing the function\n",
    "    \n",
    "    \"\"\"\n",
    "    \n",
    "    model = tf.keras.Sequential()\n",
    "\n",
    "    model.add(tf.keras.layers.Dense(54, input_shape = shape_for_first_layer ))\n",
    "\n",
    "    model.add(tf.keras.layers.Dense(108,activation= \"sigmoid\"))\n",
    "    \n",
    "    model.add(tf.keras.layers.Dense(54,activation= \"sigmoid\"))\n",
    "    \n",
    "    \n",
    "    model.add(tf.keras.layers.Dense(1))\n",
    "    \n",
    "\n",
    "    \n",
    "    \n",
    "    # Compile the model\n",
    "    \n",
    "    model.compile(loss = tf.keras.losses.MeanSquaredError(),\\\n",
    "                  metrics=tf.keras.metrics.RootMeanSquaredError(),\\\n",
    "                  optimizer=tf.keras.optimizers.Adam(learning_rate=1e-2))\n",
    "    \n",
    "    return model"
   ]
  },
  {
   "cell_type": "markdown",
   "id": "62bb6a86",
   "metadata": {},
   "source": [
    "# 6. Python code"
   ]
  },
  {
   "cell_type": "markdown",
   "id": "33632e62",
   "metadata": {},
   "source": [
    "## OLS Regression"
   ]
  },
  {
   "cell_type": "markdown",
   "id": "467a5ac8",
   "metadata": {},
   "source": [
    "Below we are using Greece as a testing case to see if our variables allow predicting the dependent variable. Greece as one of the prime tourism destination of our dataset, is the ideal case for this purpose. Of course, this could be replicated with all the other countries of our datasets."
   ]
  },
  {
   "cell_type": "code",
   "execution_count": 6,
   "id": "cf78f429",
   "metadata": {
    "scrolled": true
   },
   "outputs": [
    {
     "name": "stdout",
     "output_type": "stream",
     "text": [
      "                            OLS Regression Results                            \n",
      "==============================================================================\n",
      "Dep. Variable:                      y   R-squared:                       0.982\n",
      "Model:                            OLS   Adj. R-squared:                  0.980\n",
      "Method:                 Least Squares   F-statistic:                     361.6\n",
      "Date:                Sun, 14 Aug 2022   Prob (F-statistic):          1.64e-139\n",
      "Time:                        18:45:38   Log-Likelihood:                 430.52\n",
      "No. Observations:                 204   AIC:                            -805.0\n",
      "Df Residuals:                     176   BIC:                            -712.1\n",
      "Df Model:                          27                                         \n",
      "Covariance Type:            nonrobust                                         \n",
      "==============================================================================\n",
      "                 coef    std err          t      P>|t|      [0.025      0.975]\n",
      "------------------------------------------------------------------------------\n",
      "const         -0.0487      0.016     -3.047      0.003      -0.080      -0.017\n",
      "x1             0.1198      0.041      2.912      0.004       0.039       0.201\n",
      "x2            -0.0792      0.071     -1.119      0.265      -0.219       0.060\n",
      "x3            -0.0414      0.069     -0.602      0.548      -0.177       0.094\n",
      "x4            -0.3448      0.121     -2.844      0.005      -0.584      -0.105\n",
      "x5             0.1376      0.063      2.177      0.031       0.013       0.262\n",
      "x6             0.4886      0.097      5.031      0.000       0.297       0.680\n",
      "x7             0.0669      0.089      0.749      0.455      -0.109       0.243\n",
      "x8            -0.0904      0.116     -0.779      0.437      -0.320       0.139\n",
      "x9             0.2391      0.079      3.015      0.003       0.083       0.396\n",
      "x10            0.3846      0.100      3.846      0.000       0.187       0.582\n",
      "x11            0.1255      0.054      2.318      0.022       0.019       0.232\n",
      "x12           -0.0530      0.084     -0.632      0.528      -0.219       0.113\n",
      "x13            0.2322      0.064      3.627      0.000       0.106       0.359\n",
      "x14           -0.0161      0.046     -0.351      0.726      -0.106       0.074\n",
      "x15           -0.4930      0.118     -4.188      0.000      -0.725      -0.261\n",
      "x16           -0.1748      0.046     -3.802      0.000      -0.265      -0.084\n",
      "x17           -0.2829      0.073     -3.895      0.000      -0.426      -0.140\n",
      "x18           -0.0424      0.038     -1.127      0.261      -0.117       0.032\n",
      "x19            0.2216      0.122      1.823      0.070      -0.018       0.461\n",
      "x20            0.2256      0.113      1.997      0.047       0.003       0.448\n",
      "x21           -0.0338      0.105     -0.321      0.748      -0.242       0.174\n",
      "x22            0.4558      0.092      4.975      0.000       0.275       0.637\n",
      "x23           -0.0395      0.066     -0.600      0.549      -0.169       0.090\n",
      "x24           -0.1438      0.058     -2.485      0.014      -0.258      -0.030\n",
      "x25            0.0242      0.079      0.305      0.761      -0.132       0.181\n",
      "x26            0.1721      0.062      2.797      0.006       0.051       0.293\n",
      "x27            0.0251      0.040      0.622      0.535      -0.055       0.105\n",
      "==============================================================================\n",
      "Omnibus:                       37.693   Durbin-Watson:                   1.180\n",
      "Prob(Omnibus):                  0.000   Jarque-Bera (JB):              107.416\n",
      "Skew:                           0.755   Prob(JB):                     4.73e-24\n",
      "Kurtosis:                       6.218   Cond. No.                         187.\n",
      "==============================================================================\n",
      "\n",
      "Notes:\n",
      "[1] Standard Errors assume that the covariance matrix of the errors is correctly specified.\n"
     ]
    }
   ],
   "source": [
    "#Applying OLS Function\n",
    "\n",
    "OLS_data_prep_results(df,\"Greece\",7,12)\n"
   ]
  },
  {
   "cell_type": "markdown",
   "id": "fc78a044",
   "metadata": {},
   "source": [
    "As the OLS regression gives an R-squared of 0.982, it shows that the independent variables that we are using are explaining our dependent variable. This may seem like a great thing as it indicates that our model works exceptionally well. Despite that, high R-squared can also be interpreted as a problem, as it may mean overfitting of our model or bias. In our case, the most expected reasoning behind this exceptionally high number is the fact that we have clear trends in our panel data. This is not expected to be a significant problem, as we have used lagging in addressing it."
   ]
  },
  {
   "cell_type": "markdown",
   "id": "e15c9cfb",
   "metadata": {},
   "source": [
    "## Scaling"
   ]
  },
  {
   "cell_type": "markdown",
   "id": "10275ae5",
   "metadata": {},
   "source": [
    "For the methods that we split the data into training and testing, we fit the scaler with training data and then transform both the training and testing data in order to avoid creating bias in our results by including information from the testing datasets into the training process of our methods. For the country that we would like to predict, we are lagging the tourist arrivals value by a year, which means that we are using last year's monthly arrivals to predict the same month in the following year."
   ]
  },
  {
   "cell_type": "code",
   "execution_count": 7,
   "id": "eaf18a31",
   "metadata": {},
   "outputs": [],
   "source": [
    "#spliting to train,validation,test data , validation size = 10% , test size = 10%\n",
    "\n",
    "df[\"Greece\"] = df[\"Greece\"].shift(12)\n",
    "\n",
    "df.dropna(inplace = True)\n",
    "\n",
    "data_to_be_scaled = df.to_numpy()\n",
    "\n",
    "ML_x = np.delete(data_to_be_scaled, 7, axis=1)\n",
    "\n",
    "ML_y = data_to_be_scaled[:,7]\n",
    "\n",
    "X_train, X_test, y_train, y_test = train_test_split(ML_x, ML_y, test_size=0.1, random_state=50)\n",
    "\n",
    "X_train, X_val, y_train, y_val = train_test_split(X_train, y_train, test_size=0.1, random_state=50)\n",
    "\n",
    "#Scaling our data\n",
    "\n",
    "scaler_X = MinMaxScaler(feature_range= (0,1))\n",
    "\n",
    "scaler_X.fit(X_train)\n",
    "\n",
    "X_train_scaled = scaler_X.transform(X_train)\n",
    "X_val_scaled = scaler_X.transform(X_val)\n",
    "X_test_scaled = scaler_X.transform(X_test)\n",
    "\n",
    "scaler_y = MinMaxScaler(feature_range= (0,1))\n",
    "\n",
    "scaler_y.fit(y_train.reshape(-1, 1))\n",
    "\n",
    "y_train_scaled = scaler_y.transform(y_train.reshape(-1, 1))\n",
    "y_val_scaled = scaler_y.transform(y_val.reshape(-1, 1))\n",
    "y_test_scaled = scaler_y.transform(y_test.reshape(-1, 1))\n",
    "\n"
   ]
  },
  {
   "cell_type": "markdown",
   "id": "1bfb5fb9",
   "metadata": {},
   "source": [
    "## Neural Networks"
   ]
  },
  {
   "cell_type": "markdown",
   "id": "7b8e0eff",
   "metadata": {},
   "source": [
    "The first and third layer include 54 neurons each, while the second one uses 108. In addition, each layer except the first includes a sigmoid activation function."
   ]
  },
  {
   "cell_type": "code",
   "execution_count": 14,
   "id": "5922d9a5",
   "metadata": {},
   "outputs": [
    {
     "name": "stdout",
     "output_type": "stream",
     "text": [
      "Epoch 1/40\n",
      "8/8 [==============================] - 1s 40ms/step - loss: 0.6767 - root_mean_squared_error: 0.8226 - val_loss: 0.3342 - val_root_mean_squared_error: 0.5781\n",
      "Epoch 2/40\n",
      "8/8 [==============================] - 0s 7ms/step - loss: 0.2376 - root_mean_squared_error: 0.4875 - val_loss: 0.1892 - val_root_mean_squared_error: 0.4349\n",
      "Epoch 3/40\n",
      "8/8 [==============================] - 0s 6ms/step - loss: 0.0929 - root_mean_squared_error: 0.3048 - val_loss: 0.0810 - val_root_mean_squared_error: 0.2846\n",
      "Epoch 4/40\n",
      "8/8 [==============================] - 0s 7ms/step - loss: 0.0397 - root_mean_squared_error: 0.1992 - val_loss: 0.0357 - val_root_mean_squared_error: 0.1889\n",
      "Epoch 5/40\n",
      "8/8 [==============================] - 0s 7ms/step - loss: 0.0230 - root_mean_squared_error: 0.1517 - val_loss: 0.0277 - val_root_mean_squared_error: 0.1665\n",
      "Epoch 6/40\n",
      "8/8 [==============================] - 0s 6ms/step - loss: 0.0194 - root_mean_squared_error: 0.1392 - val_loss: 0.0182 - val_root_mean_squared_error: 0.1348\n",
      "Epoch 7/40\n",
      "8/8 [==============================] - 0s 6ms/step - loss: 0.0136 - root_mean_squared_error: 0.1166 - val_loss: 0.0123 - val_root_mean_squared_error: 0.1108\n",
      "Epoch 8/40\n",
      "8/8 [==============================] - 0s 6ms/step - loss: 0.0120 - root_mean_squared_error: 0.1095 - val_loss: 0.0083 - val_root_mean_squared_error: 0.0910\n",
      "Epoch 9/40\n",
      "8/8 [==============================] - 0s 6ms/step - loss: 0.0087 - root_mean_squared_error: 0.0935 - val_loss: 0.0073 - val_root_mean_squared_error: 0.0857\n",
      "Epoch 10/40\n",
      "8/8 [==============================] - 0s 6ms/step - loss: 0.0071 - root_mean_squared_error: 0.0840 - val_loss: 0.0069 - val_root_mean_squared_error: 0.0833\n",
      "Epoch 11/40\n",
      "8/8 [==============================] - 0s 6ms/step - loss: 0.0068 - root_mean_squared_error: 0.0822 - val_loss: 0.0061 - val_root_mean_squared_error: 0.0782\n",
      "Epoch 12/40\n",
      "8/8 [==============================] - 0s 6ms/step - loss: 0.0053 - root_mean_squared_error: 0.0728 - val_loss: 0.0043 - val_root_mean_squared_error: 0.0660\n",
      "Epoch 13/40\n",
      "8/8 [==============================] - 0s 6ms/step - loss: 0.0043 - root_mean_squared_error: 0.0652 - val_loss: 0.0046 - val_root_mean_squared_error: 0.0679\n",
      "Epoch 14/40\n",
      "8/8 [==============================] - 0s 6ms/step - loss: 0.0046 - root_mean_squared_error: 0.0676 - val_loss: 0.0028 - val_root_mean_squared_error: 0.0532\n",
      "Epoch 15/40\n",
      "8/8 [==============================] - 0s 6ms/step - loss: 0.0036 - root_mean_squared_error: 0.0599 - val_loss: 0.0027 - val_root_mean_squared_error: 0.0522\n",
      "Epoch 16/40\n",
      "8/8 [==============================] - 0s 6ms/step - loss: 0.0036 - root_mean_squared_error: 0.0601 - val_loss: 0.0033 - val_root_mean_squared_error: 0.0578\n",
      "Epoch 17/40\n",
      "8/8 [==============================] - 0s 5ms/step - loss: 0.0037 - root_mean_squared_error: 0.0607 - val_loss: 0.0033 - val_root_mean_squared_error: 0.0578\n",
      "Epoch 18/40\n",
      "8/8 [==============================] - 0s 6ms/step - loss: 0.0036 - root_mean_squared_error: 0.0601 - val_loss: 0.0022 - val_root_mean_squared_error: 0.0467\n",
      "Epoch 19/40\n",
      "8/8 [==============================] - 0s 6ms/step - loss: 0.0030 - root_mean_squared_error: 0.0547 - val_loss: 0.0015 - val_root_mean_squared_error: 0.0390\n",
      "Epoch 20/40\n",
      "8/8 [==============================] - 0s 6ms/step - loss: 0.0027 - root_mean_squared_error: 0.0519 - val_loss: 0.0013 - val_root_mean_squared_error: 0.0365\n",
      "Epoch 21/40\n",
      "8/8 [==============================] - 0s 5ms/step - loss: 0.0026 - root_mean_squared_error: 0.0511 - val_loss: 0.0014 - val_root_mean_squared_error: 0.0373\n",
      "Epoch 22/40\n",
      "8/8 [==============================] - 0s 6ms/step - loss: 0.0027 - root_mean_squared_error: 0.0524 - val_loss: 0.0018 - val_root_mean_squared_error: 0.0428\n",
      "Epoch 23/40\n",
      "8/8 [==============================] - 0s 6ms/step - loss: 0.0027 - root_mean_squared_error: 0.0516 - val_loss: 0.0014 - val_root_mean_squared_error: 0.0375\n",
      "Epoch 24/40\n",
      "8/8 [==============================] - 0s 6ms/step - loss: 0.0026 - root_mean_squared_error: 0.0508 - val_loss: 0.0026 - val_root_mean_squared_error: 0.0508\n"
     ]
    },
    {
     "data": {
      "text/plain": [
       "0.9644712770569116"
      ]
     },
     "execution_count": 14,
     "metadata": {},
     "output_type": "execute_result"
    }
   ],
   "source": [
    "\n",
    "model1 = Neural_Network_Structure((27,))\n",
    "\n",
    "\n",
    "model1_fit = model1.fit(\n",
    "    X_train_scaled,y_train_scaled,\n",
    "    validation_data=(X_val_scaled, y_val_scaled),\n",
    "    batch_size= 20,\n",
    "    epochs=40,\n",
    "    verbose= 1,\n",
    "    callbacks= tf.keras.callbacks.EarlyStopping(monitor='val_loss', patience=4),\n",
    "    )\n",
    "\n",
    "\n",
    "y_pred = model1.predict(X_test_scaled)\n",
    "\n",
    "r2_score(y_test_scaled, y_pred)"
   ]
  },
  {
   "cell_type": "markdown",
   "id": "1f2eb3ad",
   "metadata": {},
   "source": [
    "As we can see the R-squared is 0.964, which is good as it shows that it machine learning can indeed predict the future tourist arrivals with high degree of certainty."
   ]
  },
  {
   "cell_type": "code",
   "execution_count": 15,
   "id": "e3cf3f71",
   "metadata": {},
   "outputs": [
    {
     "data": {
      "image/png": "[encoded data removed]",
      "text/plain": [
       "<Figure size 432x288 with 1 Axes>"
      ]
     },
     "metadata": {
      "needs_background": "light"
     },
     "output_type": "display_data"
    },
    {
     "data": {
      "image/png": "[encoded data removed]",
      "text/plain": [
       "<Figure size 432x288 with 1 Axes>"
      ]
     },
     "metadata": {
      "needs_background": "light"
     },
     "output_type": "display_data"
    }
   ],
   "source": [
    "#Graph of the training\n",
    "\n",
    "# Plot for Neural Network Training\n",
    "\n",
    "plt.plot(model1_fit.history['root_mean_squared_error'])\n",
    "plt.title('Neural Network RMSE training')\n",
    "plt.ylabel('RMSE')\n",
    "plt.xlabel('Epoch')\n",
    "plt.show()\n",
    "\n",
    "# summarize history for loss\n",
    "plt.plot(model1_fit.history['loss'])\n",
    "plt.title('Neural Network MSE during training')\n",
    "plt.ylabel('MSE')\n",
    "plt.xlabel('Epoch')\n",
    "plt.show()"
   ]
  },
  {
   "cell_type": "markdown",
   "id": "549dd4a4",
   "metadata": {},
   "source": [
    "As we see above, the RMSE and the MSE are getting smaller with each Epoch. This indicates that the neural networks are being trained successfully by our available datasets."
   ]
  },
  {
   "cell_type": "markdown",
   "id": "5d05103c",
   "metadata": {},
   "source": [
    "# 7. Robustness Analysis"
   ]
  },
  {
   "cell_type": "markdown",
   "id": "b50e8887",
   "metadata": {},
   "source": [
    "For our Robustness analysis we will use Ridge and Lasso regression. "
   ]
  },
  {
   "cell_type": "code",
   "execution_count": 16,
   "id": "0467866e",
   "metadata": {},
   "outputs": [],
   "source": [
    "#Ridge & Lasso Regression data prep\n",
    "# We don't have a validation set in this case\n",
    "\n",
    "X_train, X_test, y_train, y_test = train_test_split(ML_x, ML_y, test_size=0.1, random_state=50)\n",
    "\n",
    "#Scaling our data\n",
    "\n",
    "RL_scaler_X = MinMaxScaler(feature_range= (0,1))\n",
    "\n",
    "RL_scaler_X.fit(X_train)\n",
    "\n",
    "X_train_scaled = RL_scaler_X.transform(X_train)\n",
    "X_test_scaled = RL_scaler_X.transform(X_test)\n",
    "\n",
    "RL_scaler_y = MinMaxScaler(feature_range= (0,1))\n",
    "\n",
    "RL_scaler_y.fit(y_train.reshape(-1, 1))\n",
    "\n",
    "y_train_scaled = RL_scaler_y.transform(y_train.reshape(-1, 1))\n",
    "y_test_scaled = RL_scaler_y.transform(y_test.reshape(-1, 1))\n",
    "\n"
   ]
  },
  {
   "cell_type": "markdown",
   "id": "6df60e20",
   "metadata": {},
   "source": [
    "## Ridge Regression"
   ]
  },
  {
   "cell_type": "markdown",
   "id": "227b5753",
   "metadata": {},
   "source": [
    "We are using Ridge Regression, as it is a method of estimating the coefficients in cases that independent variables are highly correlated, as could be the tourist arrivals in different observations of our datasets. "
   ]
  },
  {
   "cell_type": "code",
   "execution_count": 17,
   "id": "21e3ee87",
   "metadata": {},
   "outputs": [
    {
     "data": {
      "text/plain": [
       "0.9930687054906027"
      ]
     },
     "execution_count": 17,
     "metadata": {},
     "output_type": "execute_result"
    }
   ],
   "source": [
    "#Ridge Model setup & prediction\n",
    "\n",
    "Ridge_model = Ridge(alpha=0.01)\n",
    "\n",
    "Ridge_model.fit(X_train_scaled, y_train_scaled) \n",
    "\n",
    "pred_Ridge_model= Ridge_model.predict(X_test_scaled)\n",
    "\n",
    "r2_score(y_test_scaled, pred_Ridge_model)"
   ]
  },
  {
   "cell_type": "markdown",
   "id": "ddd65b82",
   "metadata": {},
   "source": [
    "## Lasso Regression"
   ]
  },
  {
   "cell_type": "code",
   "execution_count": 18,
   "id": "288337c9",
   "metadata": {},
   "outputs": [
    {
     "data": {
      "text/plain": [
       "0.9427722694529677"
      ]
     },
     "execution_count": 18,
     "metadata": {},
     "output_type": "execute_result"
    }
   ],
   "source": [
    "#Lasso Model setup & prediction\n",
    "\n",
    "Lasso_model = Lasso(alpha=0.01)\n",
    "\n",
    "Lasso_model.fit(X_train_scaled, y_train_scaled) \n",
    "\n",
    "pred_Lasso_model= Lasso_model.predict(X_test_scaled)\n",
    "\n",
    "r2_score(y_test_scaled, pred_Lasso_model)"
   ]
  },
  {
   "cell_type": "markdown",
   "id": "e254ab4b",
   "metadata": {},
   "source": [
    "# 8. Discussion and conclusion"
   ]
  },
  {
   "cell_type": "code",
   "execution_count": null,
   "id": "fcf16b80",
   "metadata": {},
   "outputs": [],
   "source": []
  },
  {
   "cell_type": "markdown",
   "id": "3c2987cb",
   "metadata": {},
   "source": [
    "As the R-squared is high in all the methods that we have used, without significant differences between them, it indicates that machine learning can indeed be used to predict future tourist arrivals. This shows that by using publicly available data, we can infer with certainty the expected amount of tourists each month.\n",
    "Regarding the potential weakness of our method, the first thought has, of course, to go to the missing values, as we had to drop some countries with a large number of missing values and replace some of the remaining ones with the average. Despite that, as these occasions were rather limited, we believe that our results are indeed representative. In a future paper, this could be corrected by going to national sources for each country that had missing values instead of relying exclusively on datasets at a European level. \n",
    "Another possible way to expand on this paper would be to would be by using specific regions of countries, instead of taking the countries as a whole, by using, for example, the NUTS 2 regions that the European Commission is using for its policies. In this way, countries can use the results for domestic policies and redirect tourism to less crowded areas depending on the time of the year.\n",
    "Finally, it may be very interesting to replicate it on a Worldwide level, as this would bring more diverse tourist destinations, but due to the rather more unstable political situation, it would require careful assessment of the other factors that may influence our results. \n",
    "\n"
   ]
  }
 ],
 "metadata": {
  "kernelspec": {
   "display_name": "Python 3 (ipykernel)",
   "language": "python",
   "name": "python3"
  },
  "language_info": {
   "codemirror_mode": {
    "name": "ipython",
    "version": 3
   },
   "file_extension": ".py",
   "mimetype": "text/x-python",
   "name": "python",
   "nbconvert_exporter": "python",
   "pygments_lexer": "ipython3",
   "version": "3.9.12"
  }
 },
 "nbformat": 4,
 "nbformat_minor": 5
}
